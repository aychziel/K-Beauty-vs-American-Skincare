{
 "cells": [
  {
   "cell_type": "markdown",
   "id": "afc8a432-b843-4a2c-81fa-98820e7244e3",
   "metadata": {},
   "source": [
    "# Setting up Praw and collecting data from reddit."
   ]
  },
  {
   "cell_type": "markdown",
   "id": "6ebaea85-b596-42e0-918c-29322ca82ed6",
   "metadata": {},
   "source": [
    "Note about Skincare addiction and KBeauty data: I collected this data on April 10-13th. The reason I spaced the days out was to account for the number of requests for the PRAW(Python Reddit API Wrapper). "
   ]
  },
  {
   "cell_type": "code",
   "execution_count": null,
   "id": "902f83e6-5b6a-4209-8dc1-d320b0792d2c",
   "metadata": {},
   "outputs": [],
   "source": [
    "### Datasets ###\n",
    "Background on data: The following data was used in my analysis and was obtained from [Gapminder.com](https://www.gapminder.org/) which is a is a non-profit foundation based in Stockholm, Sweden, that aims to promote sustainable global development and enhance understanding of important global trends through the use of reliable data. With guidance from General Assemebly, I was able to find this source.\n",
    "\n",
    "Gross National Income (GNI) per capita in current US dollars - Variable: Gni_per_cap_atlas_method_con2021.csv - Includes data from 1800 to 2050\n",
    "\n",
    "Population by Country - Variable: Population.csv - Includes data from 1800 to 2100\n",
    "\n",
    "Broadband subscribers per 100 people - Variable: broadband_subscribers_per_100_people - Fixed broadband subcriptions refers to fixed subcriptions to high-speed access to the public internet(A TCP/IP Connection) at downstream speeds equal to or great than 256 kbit/s.Includes data from 1998 to 2022 as 1998 was the year Broadband was created. Note: I choose to look at Broadband subscribers per 100 people vs all Broadband subscribers due to manageability and more standarization comparison.\n"
   ]
  },
  {
   "cell_type": "code",
   "execution_count": null,
   "id": "34f38c88-d64b-4673-9cfb-085ea4afa138",
   "metadata": {},
   "outputs": [],
   "source": [
    "### Data Dictionary ###\n",
    "|Feature|Type|Dataset|Description|\n",
    "|---|---|---|---|\n",
    "|**created_utc**|*object*|Reddit|Data converted to UTC| \n",
    "|**title**|*object*|Reddit|Post titles from reddit|\n",
    "|**self_text**|*object*|Reddit|Posts|\n",
    "|**subreddit **|*object*|Redit|Which subreddit, Korean skincare or skincare addiction|"
   ]
  },
  {
   "cell_type": "code",
   "execution_count": null,
   "id": "27494f45-231e-4489-a38f-ef0754b18061",
   "metadata": {},
   "outputs": [],
   "source": [
    "# About Data\n",
    "# Data Dictionary "
   ]
  },
  {
   "cell_type": "code",
   "execution_count": 1,
   "id": "f594409d-ac67-4d48-8777-0365afe3f636",
   "metadata": {},
   "outputs": [],
   "source": [
    "import praw\n",
    "import pandas as pd"
   ]
  },
  {
   "cell_type": "code",
   "execution_count": 2,
   "id": "4a9cbb69-46fb-4ffa-8629-21a147b50fb3",
   "metadata": {},
   "outputs": [],
   "source": [
    "reddit = praw.Reddit(\n",
    "    client_id='p5gLpag2YEttDsAr_m-h1w',\n",
    "    client_secret='-f2xSBNKksxXytgj9s1HOww1lZXOZg',\n",
    "    user_agent='Subfind',\n",
    "    username='Unique_Visual7167',\n",
    "    password='Incorrect963h!'\n",
    ")"
   ]
  },
  {
   "cell_type": "markdown",
   "id": "4b5957d4-5d4e-4d55-b7de-5f07bbfeb55c",
   "metadata": {},
   "source": [
    "Using Python reddit API Wrapper to collect data."
   ]
  },
  {
   "cell_type": "markdown",
   "id": "9fdbdcc5-63c1-4d92-85eb-84dacc86e921",
   "metadata": {},
   "source": [
    "### Collecting data"
   ]
  },
  {
   "cell_type": "code",
   "execution_count": 3,
   "id": "6d084138-72fa-47ab-b9c4-f8d7a83ca27d",
   "metadata": {},
   "outputs": [],
   "source": [
    "# Choose your subreddit\n",
    "subreddit = reddit.subreddit('Skincare_Addiction')\n",
    "\n",
    "# Adjust the limit as needed -- Note that this will grab the 25 most recent posts\n",
    "posts = subreddit.new(limit=950)"
   ]
  },
  {
   "cell_type": "code",
   "execution_count": 4,
   "id": "272df0e4-2c57-41a8-8b35-6ac82a075ce6",
   "metadata": {},
   "outputs": [
    {
     "data": {
      "text/html": [
       "<div>\n",
       "<style scoped>\n",
       "    .dataframe tbody tr th:only-of-type {\n",
       "        vertical-align: middle;\n",
       "    }\n",
       "\n",
       "    .dataframe tbody tr th {\n",
       "        vertical-align: top;\n",
       "    }\n",
       "\n",
       "    .dataframe thead th {\n",
       "        text-align: right;\n",
       "    }\n",
       "</style>\n",
       "<table border=\"1\" class=\"dataframe\">\n",
       "  <thead>\n",
       "    <tr style=\"text-align: right;\">\n",
       "      <th></th>\n",
       "      <th>created_utc</th>\n",
       "      <th>title</th>\n",
       "      <th>self_text</th>\n",
       "      <th>subreddit</th>\n",
       "    </tr>\n",
       "  </thead>\n",
       "  <tbody>\n",
       "    <tr>\n",
       "      <th>0</th>\n",
       "      <td>1.713070e+09</td>\n",
       "      <td>combining two body lotions</td>\n",
       "      <td>I use Cerave body lotion and a retinol body lo...</td>\n",
       "      <td>Skincare_Addiction</td>\n",
       "    </tr>\n",
       "    <tr>\n",
       "      <th>1</th>\n",
       "      <td>1.713069e+09</td>\n",
       "      <td>Is SPF 30 moisturizer enough to use with Retinol?</td>\n",
       "      <td>Is SPF 30 moisturizer enough to use with Retin...</td>\n",
       "      <td>Skincare_Addiction</td>\n",
       "    </tr>\n",
       "    <tr>\n",
       "      <th>2</th>\n",
       "      <td>1.713060e+09</td>\n",
       "      <td>Retinol Eye Cream</td>\n",
       "      <td>\\nSo I accidentally bought an eye cream that c...</td>\n",
       "      <td>Skincare_Addiction</td>\n",
       "    </tr>\n",
       "    <tr>\n",
       "      <th>3</th>\n",
       "      <td>1.713059e+09</td>\n",
       "      <td>Question about Niacinamide cleanser + serum</td>\n",
       "      <td>Can I use CeraVe's foaming cleanser (which con...</td>\n",
       "      <td>Skincare_Addiction</td>\n",
       "    </tr>\n",
       "    <tr>\n",
       "      <th>4</th>\n",
       "      <td>1.713058e+09</td>\n",
       "      <td>Tretinoin combined with exfoliants?</td>\n",
       "      <td>Hi! 🩷 please be kind .. I’m sorry if this is a...</td>\n",
       "      <td>Skincare_Addiction</td>\n",
       "    </tr>\n",
       "  </tbody>\n",
       "</table>\n",
       "</div>"
      ],
      "text/plain": [
       "    created_utc                                              title  \\\n",
       "0  1.713070e+09                         combining two body lotions   \n",
       "1  1.713069e+09  Is SPF 30 moisturizer enough to use with Retinol?   \n",
       "2  1.713060e+09                                  Retinol Eye Cream   \n",
       "3  1.713059e+09        Question about Niacinamide cleanser + serum   \n",
       "4  1.713058e+09                Tretinoin combined with exfoliants?   \n",
       "\n",
       "                                           self_text           subreddit  \n",
       "0  I use Cerave body lotion and a retinol body lo...  Skincare_Addiction  \n",
       "1  Is SPF 30 moisturizer enough to use with Retin...  Skincare_Addiction  \n",
       "2  \\nSo I accidentally bought an eye cream that c...  Skincare_Addiction  \n",
       "3  Can I use CeraVe's foaming cleanser (which con...  Skincare_Addiction  \n",
       "4  Hi! 🩷 please be kind .. I’m sorry if this is a...  Skincare_Addiction  "
      ]
     },
     "execution_count": 4,
     "metadata": {},
     "output_type": "execute_result"
    }
   ],
   "source": [
    "data = []\n",
    "for post in posts:\n",
    "    data.append([post.created_utc, post.title, post.selftext, post.subreddit])\n",
    "\n",
    "# Turn into a dataframe\n",
    "skincaread = pd.DataFrame(data, columns = ['created_utc', 'title', 'self_text', 'subreddit'])\n",
    "skincaread.head()"
   ]
  },
  {
   "cell_type": "code",
   "execution_count": 5,
   "id": "a2db7fae-ee52-4306-b8c8-d7ef07cb77ef",
   "metadata": {},
   "outputs": [],
   "source": [
    "subreddit = reddit.subreddit('koreanskincare')\n",
    "\n",
    "posts = subreddit.new(limit=950)"
   ]
  },
  {
   "cell_type": "code",
   "execution_count": 6,
   "id": "b7173f69-8448-4625-9661-537caae2becf",
   "metadata": {},
   "outputs": [
    {
     "data": {
      "text/html": [
       "<div>\n",
       "<style scoped>\n",
       "    .dataframe tbody tr th:only-of-type {\n",
       "        vertical-align: middle;\n",
       "    }\n",
       "\n",
       "    .dataframe tbody tr th {\n",
       "        vertical-align: top;\n",
       "    }\n",
       "\n",
       "    .dataframe thead th {\n",
       "        text-align: right;\n",
       "    }\n",
       "</style>\n",
       "<table border=\"1\" class=\"dataframe\">\n",
       "  <thead>\n",
       "    <tr style=\"text-align: right;\">\n",
       "      <th></th>\n",
       "      <th>created_utc</th>\n",
       "      <th>title</th>\n",
       "      <th>self_text</th>\n",
       "      <th>subreddit</th>\n",
       "    </tr>\n",
       "  </thead>\n",
       "  <tbody>\n",
       "    <tr>\n",
       "      <th>0</th>\n",
       "      <td>1.713098e+09</td>\n",
       "      <td>Breakouts after koren skincare products:help m...</td>\n",
       "      <td>Hey everyone,\\nI’m using this new skincare pro...</td>\n",
       "      <td>koreanskincare</td>\n",
       "    </tr>\n",
       "    <tr>\n",
       "      <th>1</th>\n",
       "      <td>1.713094e+09</td>\n",
       "      <td>skincare product recs ?</td>\n",
       "      <td>i have dry, sensitive, congested skin\\ni have ...</td>\n",
       "      <td>koreanskincare</td>\n",
       "    </tr>\n",
       "    <tr>\n",
       "      <th>2</th>\n",
       "      <td>1.713074e+09</td>\n",
       "      <td>Difference between Skin1004 Centella Ampoule a...</td>\n",
       "      <td>Hello guys!\\n\\nI wanted to ask if any of you k...</td>\n",
       "      <td>koreanskincare</td>\n",
       "    </tr>\n",
       "    <tr>\n",
       "      <th>3</th>\n",
       "      <td>1.713063e+09</td>\n",
       "      <td>Adding new product in the routine!</td>\n",
       "      <td>Pic 1 : wow, the packing looks really good. I ...</td>\n",
       "      <td>koreanskincare</td>\n",
       "    </tr>\n",
       "    <tr>\n",
       "      <th>4</th>\n",
       "      <td>1.713045e+09</td>\n",
       "      <td>Idk where to begin please help!</td>\n",
       "      <td>I am trying to make the switch to kskincare an...</td>\n",
       "      <td>koreanskincare</td>\n",
       "    </tr>\n",
       "  </tbody>\n",
       "</table>\n",
       "</div>"
      ],
      "text/plain": [
       "    created_utc                                              title  \\\n",
       "0  1.713098e+09  Breakouts after koren skincare products:help m...   \n",
       "1  1.713094e+09                            skincare product recs ?   \n",
       "2  1.713074e+09  Difference between Skin1004 Centella Ampoule a...   \n",
       "3  1.713063e+09                 Adding new product in the routine!   \n",
       "4  1.713045e+09                    Idk where to begin please help!   \n",
       "\n",
       "                                           self_text       subreddit  \n",
       "0  Hey everyone,\\nI’m using this new skincare pro...  koreanskincare  \n",
       "1  i have dry, sensitive, congested skin\\ni have ...  koreanskincare  \n",
       "2  Hello guys!\\n\\nI wanted to ask if any of you k...  koreanskincare  \n",
       "3  Pic 1 : wow, the packing looks really good. I ...  koreanskincare  \n",
       "4  I am trying to make the switch to kskincare an...  koreanskincare  "
      ]
     },
     "execution_count": 6,
     "metadata": {},
     "output_type": "execute_result"
    }
   ],
   "source": [
    "data = []\n",
    "for post in posts:\n",
    "    data.append([post.created_utc, post.title, post.selftext, post.subreddit])\n",
    "\n",
    "# Turn into a dataframe\n",
    "kskincare = pd.DataFrame(data, columns = ['created_utc', 'title', 'self_text', 'subreddit'])\n",
    "kskincare.head()"
   ]
  },
  {
   "cell_type": "code",
   "execution_count": 7,
   "id": "d8d5a834-5d62-4d72-9177-d00fb4fa7000",
   "metadata": {},
   "outputs": [
    {
     "data": {
      "text/plain": [
       "(950, 4)"
      ]
     },
     "execution_count": 7,
     "metadata": {},
     "output_type": "execute_result"
    }
   ],
   "source": [
    "skincaread.shape"
   ]
  },
  {
   "cell_type": "code",
   "execution_count": 8,
   "id": "373a90c1-e8c3-448c-92eb-a2286bc83738",
   "metadata": {},
   "outputs": [
    {
     "data": {
      "text/plain": [
       "(950, 4)"
      ]
     },
     "execution_count": 8,
     "metadata": {},
     "output_type": "execute_result"
    }
   ],
   "source": [
    "kskincare.shape"
   ]
  },
  {
   "cell_type": "markdown",
   "id": "eacd7651-5ca0-46ce-8564-acf85ea63fc2",
   "metadata": {},
   "source": [
    "Checking the shape to see if the data was collected properly. I decided to pick 950 because 1000 was not giving me the amount that I wanted once I cleaned it."
   ]
  },
  {
   "cell_type": "code",
   "execution_count": 9,
   "id": "38bd46c8-c034-4f72-9f8e-1a7e08b7c69c",
   "metadata": {},
   "outputs": [
    {
     "data": {
      "text/html": [
       "<div>\n",
       "<style scoped>\n",
       "    .dataframe tbody tr th:only-of-type {\n",
       "        vertical-align: middle;\n",
       "    }\n",
       "\n",
       "    .dataframe tbody tr th {\n",
       "        vertical-align: top;\n",
       "    }\n",
       "\n",
       "    .dataframe thead th {\n",
       "        text-align: right;\n",
       "    }\n",
       "</style>\n",
       "<table border=\"1\" class=\"dataframe\">\n",
       "  <thead>\n",
       "    <tr style=\"text-align: right;\">\n",
       "      <th></th>\n",
       "      <th>created_utc</th>\n",
       "      <th>title</th>\n",
       "      <th>self_text</th>\n",
       "      <th>subreddit</th>\n",
       "    </tr>\n",
       "  </thead>\n",
       "  <tbody>\n",
       "    <tr>\n",
       "      <th>0</th>\n",
       "      <td>1.713070e+09</td>\n",
       "      <td>combining two body lotions</td>\n",
       "      <td>I use Cerave body lotion and a retinol body lo...</td>\n",
       "      <td>Skincare_Addiction</td>\n",
       "    </tr>\n",
       "    <tr>\n",
       "      <th>1</th>\n",
       "      <td>1.713069e+09</td>\n",
       "      <td>Is SPF 30 moisturizer enough to use with Retinol?</td>\n",
       "      <td>Is SPF 30 moisturizer enough to use with Retin...</td>\n",
       "      <td>Skincare_Addiction</td>\n",
       "    </tr>\n",
       "    <tr>\n",
       "      <th>2</th>\n",
       "      <td>1.713060e+09</td>\n",
       "      <td>Retinol Eye Cream</td>\n",
       "      <td>\\nSo I accidentally bought an eye cream that c...</td>\n",
       "      <td>Skincare_Addiction</td>\n",
       "    </tr>\n",
       "    <tr>\n",
       "      <th>3</th>\n",
       "      <td>1.713059e+09</td>\n",
       "      <td>Question about Niacinamide cleanser + serum</td>\n",
       "      <td>Can I use CeraVe's foaming cleanser (which con...</td>\n",
       "      <td>Skincare_Addiction</td>\n",
       "    </tr>\n",
       "    <tr>\n",
       "      <th>4</th>\n",
       "      <td>1.713058e+09</td>\n",
       "      <td>Tretinoin combined with exfoliants?</td>\n",
       "      <td>Hi! 🩷 please be kind .. I’m sorry if this is a...</td>\n",
       "      <td>Skincare_Addiction</td>\n",
       "    </tr>\n",
       "    <tr>\n",
       "      <th>...</th>\n",
       "      <td>...</td>\n",
       "      <td>...</td>\n",
       "      <td>...</td>\n",
       "      <td>...</td>\n",
       "    </tr>\n",
       "    <tr>\n",
       "      <th>945</th>\n",
       "      <td>1.710672e+09</td>\n",
       "      <td>Need Help with Routine/ Products</td>\n",
       "      <td>20 F- I’ve struggled with acne off and on for ...</td>\n",
       "      <td>Skincare_Addiction</td>\n",
       "    </tr>\n",
       "    <tr>\n",
       "      <th>946</th>\n",
       "      <td>1.710671e+09</td>\n",
       "      <td>Help with my routineee</td>\n",
       "      <td>Hi! I really need some help to create a routin...</td>\n",
       "      <td>Skincare_Addiction</td>\n",
       "    </tr>\n",
       "    <tr>\n",
       "      <th>947</th>\n",
       "      <td>1.710659e+09</td>\n",
       "      <td>Very itchy and dry skin during/ after shower</td>\n",
       "      <td>Very dry itchy skin during/after shower\\n\\nMy ...</td>\n",
       "      <td>Skincare_Addiction</td>\n",
       "    </tr>\n",
       "    <tr>\n",
       "      <th>948</th>\n",
       "      <td>1.710656e+09</td>\n",
       "      <td>Need help wity Hyperpigmentation, Acne, Geneti...</td>\n",
       "      <td>1st 3 pics are my face and 4th pic is the skin...</td>\n",
       "      <td>Skincare_Addiction</td>\n",
       "    </tr>\n",
       "    <tr>\n",
       "      <th>949</th>\n",
       "      <td>1.710653e+09</td>\n",
       "      <td>Did I do good? I think I might have gone overb...</td>\n",
       "      <td>Tbh I feel like I just bought into the hype, b...</td>\n",
       "      <td>Skincare_Addiction</td>\n",
       "    </tr>\n",
       "  </tbody>\n",
       "</table>\n",
       "<p>950 rows × 4 columns</p>\n",
       "</div>"
      ],
      "text/plain": [
       "      created_utc                                              title  \\\n",
       "0    1.713070e+09                         combining two body lotions   \n",
       "1    1.713069e+09  Is SPF 30 moisturizer enough to use with Retinol?   \n",
       "2    1.713060e+09                                  Retinol Eye Cream   \n",
       "3    1.713059e+09        Question about Niacinamide cleanser + serum   \n",
       "4    1.713058e+09                Tretinoin combined with exfoliants?   \n",
       "..            ...                                                ...   \n",
       "945  1.710672e+09                   Need Help with Routine/ Products   \n",
       "946  1.710671e+09                             Help with my routineee   \n",
       "947  1.710659e+09       Very itchy and dry skin during/ after shower   \n",
       "948  1.710656e+09  Need help wity Hyperpigmentation, Acne, Geneti...   \n",
       "949  1.710653e+09  Did I do good? I think I might have gone overb...   \n",
       "\n",
       "                                             self_text           subreddit  \n",
       "0    I use Cerave body lotion and a retinol body lo...  Skincare_Addiction  \n",
       "1    Is SPF 30 moisturizer enough to use with Retin...  Skincare_Addiction  \n",
       "2    \\nSo I accidentally bought an eye cream that c...  Skincare_Addiction  \n",
       "3    Can I use CeraVe's foaming cleanser (which con...  Skincare_Addiction  \n",
       "4    Hi! 🩷 please be kind .. I’m sorry if this is a...  Skincare_Addiction  \n",
       "..                                                 ...                 ...  \n",
       "945  20 F- I’ve struggled with acne off and on for ...  Skincare_Addiction  \n",
       "946  Hi! I really need some help to create a routin...  Skincare_Addiction  \n",
       "947  Very dry itchy skin during/after shower\\n\\nMy ...  Skincare_Addiction  \n",
       "948  1st 3 pics are my face and 4th pic is the skin...  Skincare_Addiction  \n",
       "949  Tbh I feel like I just bought into the hype, b...  Skincare_Addiction  \n",
       "\n",
       "[950 rows x 4 columns]"
      ]
     },
     "execution_count": 9,
     "metadata": {},
     "output_type": "execute_result"
    }
   ],
   "source": [
    "skincaread = skincaread.drop_duplicates()\n",
    "skincaread"
   ]
  },
  {
   "cell_type": "code",
   "execution_count": 10,
   "id": "18428b41-8b7e-4215-8f21-0d5509ddb589",
   "metadata": {},
   "outputs": [
    {
     "data": {
      "text/html": [
       "<div>\n",
       "<style scoped>\n",
       "    .dataframe tbody tr th:only-of-type {\n",
       "        vertical-align: middle;\n",
       "    }\n",
       "\n",
       "    .dataframe tbody tr th {\n",
       "        vertical-align: top;\n",
       "    }\n",
       "\n",
       "    .dataframe thead th {\n",
       "        text-align: right;\n",
       "    }\n",
       "</style>\n",
       "<table border=\"1\" class=\"dataframe\">\n",
       "  <thead>\n",
       "    <tr style=\"text-align: right;\">\n",
       "      <th></th>\n",
       "      <th>created_utc</th>\n",
       "      <th>title</th>\n",
       "      <th>self_text</th>\n",
       "      <th>subreddit</th>\n",
       "    </tr>\n",
       "  </thead>\n",
       "  <tbody>\n",
       "    <tr>\n",
       "      <th>0</th>\n",
       "      <td>1.713098e+09</td>\n",
       "      <td>Breakouts after koren skincare products:help m...</td>\n",
       "      <td>Hey everyone,\\nI’m using this new skincare pro...</td>\n",
       "      <td>koreanskincare</td>\n",
       "    </tr>\n",
       "    <tr>\n",
       "      <th>1</th>\n",
       "      <td>1.713094e+09</td>\n",
       "      <td>skincare product recs ?</td>\n",
       "      <td>i have dry, sensitive, congested skin\\ni have ...</td>\n",
       "      <td>koreanskincare</td>\n",
       "    </tr>\n",
       "    <tr>\n",
       "      <th>2</th>\n",
       "      <td>1.713074e+09</td>\n",
       "      <td>Difference between Skin1004 Centella Ampoule a...</td>\n",
       "      <td>Hello guys!\\n\\nI wanted to ask if any of you k...</td>\n",
       "      <td>koreanskincare</td>\n",
       "    </tr>\n",
       "    <tr>\n",
       "      <th>3</th>\n",
       "      <td>1.713063e+09</td>\n",
       "      <td>Adding new product in the routine!</td>\n",
       "      <td>Pic 1 : wow, the packing looks really good. I ...</td>\n",
       "      <td>koreanskincare</td>\n",
       "    </tr>\n",
       "    <tr>\n",
       "      <th>4</th>\n",
       "      <td>1.713045e+09</td>\n",
       "      <td>Idk where to begin please help!</td>\n",
       "      <td>I am trying to make the switch to kskincare an...</td>\n",
       "      <td>koreanskincare</td>\n",
       "    </tr>\n",
       "    <tr>\n",
       "      <th>...</th>\n",
       "      <td>...</td>\n",
       "      <td>...</td>\n",
       "      <td>...</td>\n",
       "      <td>...</td>\n",
       "    </tr>\n",
       "    <tr>\n",
       "      <th>945</th>\n",
       "      <td>1.702017e+09</td>\n",
       "      <td>Anua peach 70% niacinamide serum give anyone e...</td>\n",
       "      <td>I can’t tell but it’s the newest product I am ...</td>\n",
       "      <td>koreanskincare</td>\n",
       "    </tr>\n",
       "    <tr>\n",
       "      <th>946</th>\n",
       "      <td>1.701946e+09</td>\n",
       "      <td>Recommendations?</td>\n",
       "      <td>Hi everyone! I’m new to skin care and have no ...</td>\n",
       "      <td>koreanskincare</td>\n",
       "    </tr>\n",
       "    <tr>\n",
       "      <th>947</th>\n",
       "      <td>1.701893e+09</td>\n",
       "      <td>Hi everyone! Please help! What skincare produc...</td>\n",
       "      <td></td>\n",
       "      <td>koreanskincare</td>\n",
       "    </tr>\n",
       "    <tr>\n",
       "      <th>948</th>\n",
       "      <td>1.701763e+09</td>\n",
       "      <td>BOJ cleansing oil</td>\n",
       "      <td>I recently bought this cleanser, its currently...</td>\n",
       "      <td>koreanskincare</td>\n",
       "    </tr>\n",
       "    <tr>\n",
       "      <th>949</th>\n",
       "      <td>1.701737e+09</td>\n",
       "      <td>help with skin care order</td>\n",
       "      <td>AM: cleanser (sometimes), vitamin C (cerave), ...</td>\n",
       "      <td>koreanskincare</td>\n",
       "    </tr>\n",
       "  </tbody>\n",
       "</table>\n",
       "<p>950 rows × 4 columns</p>\n",
       "</div>"
      ],
      "text/plain": [
       "      created_utc                                              title  \\\n",
       "0    1.713098e+09  Breakouts after koren skincare products:help m...   \n",
       "1    1.713094e+09                            skincare product recs ?   \n",
       "2    1.713074e+09  Difference between Skin1004 Centella Ampoule a...   \n",
       "3    1.713063e+09                 Adding new product in the routine!   \n",
       "4    1.713045e+09                    Idk where to begin please help!   \n",
       "..            ...                                                ...   \n",
       "945  1.702017e+09  Anua peach 70% niacinamide serum give anyone e...   \n",
       "946  1.701946e+09                                   Recommendations?   \n",
       "947  1.701893e+09  Hi everyone! Please help! What skincare produc...   \n",
       "948  1.701763e+09                                  BOJ cleansing oil   \n",
       "949  1.701737e+09                          help with skin care order   \n",
       "\n",
       "                                             self_text       subreddit  \n",
       "0    Hey everyone,\\nI’m using this new skincare pro...  koreanskincare  \n",
       "1    i have dry, sensitive, congested skin\\ni have ...  koreanskincare  \n",
       "2    Hello guys!\\n\\nI wanted to ask if any of you k...  koreanskincare  \n",
       "3    Pic 1 : wow, the packing looks really good. I ...  koreanskincare  \n",
       "4    I am trying to make the switch to kskincare an...  koreanskincare  \n",
       "..                                                 ...             ...  \n",
       "945  I can’t tell but it’s the newest product I am ...  koreanskincare  \n",
       "946  Hi everyone! I’m new to skin care and have no ...  koreanskincare  \n",
       "947                                                     koreanskincare  \n",
       "948  I recently bought this cleanser, its currently...  koreanskincare  \n",
       "949  AM: cleanser (sometimes), vitamin C (cerave), ...  koreanskincare  \n",
       "\n",
       "[950 rows x 4 columns]"
      ]
     },
     "execution_count": 10,
     "metadata": {},
     "output_type": "execute_result"
    }
   ],
   "source": [
    "kskincare = kskincare.drop_duplicates()\n",
    "kskincare"
   ]
  },
  {
   "cell_type": "markdown",
   "id": "e5714d99-1d54-427b-ab0c-c2a1c1b46832",
   "metadata": {},
   "source": [
    "Dropping duplicates in data."
   ]
  },
  {
   "cell_type": "markdown",
   "id": "3f416b87-07a5-4c5a-bb63-2a5f0cd20a8c",
   "metadata": {},
   "source": [
    "I fetched additional data and created dataframes for each new top hot. I did this to collect more data and get relevant data to answer."
   ]
  },
  {
   "cell_type": "code",
   "execution_count": 11,
   "id": "a606e17a-d864-41a2-89f9-35ee7a2c62a6",
   "metadata": {},
   "outputs": [],
   "source": [
    "subreddit = reddit.subreddit('koreanskincare')\n",
    "\n",
    "new_posts = subreddit.new(limit=450)\n",
    "\n",
    "top_posts = subreddit.top(limit=450)\n",
    "\n",
    "rising_posts = subreddit.rising(limit=450)\n",
    "\n",
    "# Create a list of posts for each category\n",
    "new_data = []\n",
    "top_data = []\n",
    "rising_data = []\n",
    "\n",
    "for post in new_posts:\n",
    "    if post.selftext:\n",
    "        new_data.append([post.created_utc, post.title, post.selftext, post.subreddit])\n",
    "\n",
    "for post in top_posts:\n",
    "    if post.selftext:\n",
    "        top_data.append([post.created_utc, post.title, post.selftext, post.subreddit])\n",
    "\n",
    "for post in rising_posts:\n",
    "    if post.selftext:\n",
    "        rising_data.append([post.created_utc, post.title, post.selftext, post.subreddit])\n",
    "\n",
    "# Create dataframes for each category\n",
    "kskincare_new = pd.DataFrame(new_data, columns=['created_utc', 'title', 'self_text', 'subreddit'])\n",
    "kskincare_top = pd.DataFrame(top_data, columns=['created_utc', 'title', 'self_text', 'subreddit'])\n",
    "kskincare_rising = pd.DataFrame(rising_data, columns=['created_utc', 'title', 'self_text', 'subreddit'])"
   ]
  },
  {
   "cell_type": "markdown",
   "id": "87a6c3c8-9fa0-4484-9e38-f5f68ec4c58f",
   "metadata": {},
   "source": [
    "Fetching data from the Korean Skincare subreddmit."
   ]
  },
  {
   "cell_type": "code",
   "execution_count": 12,
   "id": "15776448-a8c7-4c79-9c5d-a0697df8204e",
   "metadata": {},
   "outputs": [],
   "source": [
    "# Fetch subreddit\n",
    "subreddit = reddit.subreddit('Skincare_Addiction')\n",
    "\n",
    "# Fetch new posts\n",
    "new_posts = subreddit.new(limit=450)\n",
    "\n",
    "# Fetch top posts\n",
    "top_posts = subreddit.top(limit=450)\n",
    "\n",
    "# Fetch rising posts\n",
    "rising_posts = subreddit.rising(limit=450)\n",
    "\n",
    "# Create a list of posts for each category\n",
    "new_data = []\n",
    "top_data = []\n",
    "rising_data = []\n",
    "\n",
    "for post in new_posts:\n",
    "    if post.selftext:\n",
    "        new_data.append([post.created_utc, post.title, post.selftext, post.subreddit])\n",
    "\n",
    "for post in top_posts:\n",
    "    if post.selftext:\n",
    "        top_data.append([post.created_utc, post.title, post.selftext, post.subreddit])\n",
    "\n",
    "for post in rising_posts:\n",
    "    if post.selftext:\n",
    "        rising_data.append([post.created_utc, post.title, post.selftext, post.subreddit])\n",
    "\n",
    "# Create dataframes for each category\n",
    "skincareadd_new = pd.DataFrame(new_data, columns=['created_utc', 'title', 'self_text', 'subreddit'])\n",
    "skincareadd_top = pd.DataFrame(top_data, columns=['created_utc', 'title', 'self_text', 'subreddit'])\n",
    "skincareadd_rising= pd.DataFrame(rising_data, columns=['created_utc', 'title', 'self_text', 'subreddit'])"
   ]
  },
  {
   "cell_type": "markdown",
   "id": "ded7de56-dc72-4a01-a800-cebdfe66ed6c",
   "metadata": {},
   "source": [
    "Fetching data from the Skincare Addiction subreddit."
   ]
  },
  {
   "cell_type": "code",
   "execution_count": null,
   "id": "5e02d471-c3cf-4067-9d4a-13606cd974d2",
   "metadata": {},
   "outputs": [],
   "source": [
    "skincareadd_new.shape\n",
    "\n",
    "skincareadd_top.shape\n",
    "\n",
    "skincareadd_rising.shape\n",
    "\n",
    "kskincare_new.shape\n",
    "\n",
    "kskincare_top.shape\n",
    "\n",
    "kskincare_rising.shape\n",
    "\n",
    "kskincare.shape"
   ]
  },
  {
   "cell_type": "markdown",
   "id": "dfd56928-d770-4090-8ead-b3ccb13212a3",
   "metadata": {},
   "source": [
    "Checking rows of categories to see how many of each I was able to obtain."
   ]
  },
  {
   "cell_type": "markdown",
   "id": "67ad1738-d847-4e0b-8918-5ef8ffbfdc54",
   "metadata": {},
   "source": [
    "### Merging dataframes in each category together."
   ]
  },
  {
   "cell_type": "code",
   "execution_count": 20,
   "id": "ecd181bf-7f3f-4421-9d73-63ba6f82b73e",
   "metadata": {},
   "outputs": [],
   "source": [
    "kskincare = pd.concat([kskincare, kskincare_new, kskincare_top, kskincare_rising], ignore_index=True)"
   ]
  },
  {
   "cell_type": "code",
   "execution_count": 21,
   "id": "334d903c-24ec-4346-aa25-544af0b46105",
   "metadata": {},
   "outputs": [
    {
     "data": {
      "text/plain": [
       "(1780, 4)"
      ]
     },
     "execution_count": 21,
     "metadata": {},
     "output_type": "execute_result"
    }
   ],
   "source": [
    "kskincare.shape"
   ]
  },
  {
   "cell_type": "code",
   "execution_count": 22,
   "id": "af0c4611-9063-4d7c-8a73-b5e81c621648",
   "metadata": {},
   "outputs": [],
   "source": [
    "skincaread = pd.concat([skincaread, skincareadd_new, skincareadd_top, skincareadd_rising], ignore_index=True)"
   ]
  },
  {
   "cell_type": "code",
   "execution_count": 23,
   "id": "633fc18f-7aa1-4b76-ba1d-2e94ab6036de",
   "metadata": {},
   "outputs": [
    {
     "data": {
      "text/plain": [
       "(1492, 4)"
      ]
     },
     "execution_count": 23,
     "metadata": {},
     "output_type": "execute_result"
    }
   ],
   "source": [
    "skincaread.shape"
   ]
  },
  {
   "cell_type": "markdown",
   "id": "6da903e2-e3e6-4dd1-916b-c9fb94495e76",
   "metadata": {},
   "source": [
    "### Saving files."
   ]
  },
  {
   "cell_type": "code",
   "execution_count": 26,
   "id": "9d172192-03f3-48a6-af84-88068b65e84f",
   "metadata": {},
   "outputs": [],
   "source": [
    "kskincare.to_csv('data/koreanskincarereddit.csv', index = False)"
   ]
  },
  {
   "cell_type": "code",
   "execution_count": 27,
   "id": "c8a2fe21-e9fc-4506-baa7-3c1667b38a00",
   "metadata": {},
   "outputs": [],
   "source": [
    "skincaread.to_csv('data/skincareaddiction.csv', index = False)"
   ]
  },
  {
   "cell_type": "markdown",
   "id": "1ce88bd5-f3e8-46f1-8ee5-b4c14e7fd864",
   "metadata": {},
   "source": [
    "Summary of data collection process: \n",
    "Through using PRAW, I was able to collect 1492 for Skincare Addiction subreddit and 1780 for Korean Skincare subreddit. After initially adding 950 for each, I was able to collect 450 of each of the Top, New, and Rising Reddit categories. In terms of Reddit categorization, \"Top\" means what has gotten the most upvotes in the subreddit. \"New\" means recent posts, and \"Rising\" means posts that are getting more activity at the current moment. Finally, I saved the Korean skincare subreddit as \"kskincare\" and Skincare Addiction subreddit as \"skincaread\" as CSV files to prepare for cleaning."
   ]
  }
 ],
 "metadata": {
  "kernelspec": {
   "display_name": "Python 3 (ipykernel)",
   "language": "python",
   "name": "python3"
  },
  "language_info": {
   "codemirror_mode": {
    "name": "ipython",
    "version": 3
   },
   "file_extension": ".py",
   "mimetype": "text/x-python",
   "name": "python",
   "nbconvert_exporter": "python",
   "pygments_lexer": "ipython3",
   "version": "3.11.8"
  }
 },
 "nbformat": 4,
 "nbformat_minor": 5
}
