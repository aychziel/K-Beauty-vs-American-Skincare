{
 "cells": [
  {
   "cell_type": "markdown",
   "id": "94c665cf-92cd-4874-8fd0-71913f7110f7",
   "metadata": {},
   "source": [
    "# Cleaning \n",
    "### Cleaning both Skincare Addiction & Kbeauty dataframes."
   ]
  },
  {
   "cell_type": "markdown",
   "id": "e40dc18e-b756-43ec-849c-6b010f42a0fa",
   "metadata": {},
   "source": [
    "### Importing Data from Data_Notebook."
   ]
  },
  {
   "cell_type": "code",
   "execution_count": 1,
   "id": "fd0d6881-c9f0-4f3d-81f4-4aa251206294",
   "metadata": {},
   "outputs": [],
   "source": [
    "#Imports will be using.\n",
    "import matplotlib.pyplot as plt\n",
    "import numpy as np\n",
    "import pandas as pd\n",
    "import seaborn as sns\n",
    "import skimpy as skim"
   ]
  },
  {
   "cell_type": "code",
   "execution_count": 2,
   "id": "d270c354-0e4a-403b-90b4-017efa625bf3",
   "metadata": {},
   "outputs": [
    {
     "data": {
      "text/html": [
       "<div>\n",
       "<style scoped>\n",
       "    .dataframe tbody tr th:only-of-type {\n",
       "        vertical-align: middle;\n",
       "    }\n",
       "\n",
       "    .dataframe tbody tr th {\n",
       "        vertical-align: top;\n",
       "    }\n",
       "\n",
       "    .dataframe thead th {\n",
       "        text-align: right;\n",
       "    }\n",
       "</style>\n",
       "<table border=\"1\" class=\"dataframe\">\n",
       "  <thead>\n",
       "    <tr style=\"text-align: right;\">\n",
       "      <th></th>\n",
       "      <th>created_utc</th>\n",
       "      <th>title</th>\n",
       "      <th>self_text</th>\n",
       "      <th>subreddit</th>\n",
       "    </tr>\n",
       "  </thead>\n",
       "  <tbody>\n",
       "    <tr>\n",
       "      <th>0</th>\n",
       "      <td>1.713070e+09</td>\n",
       "      <td>combining two body lotions</td>\n",
       "      <td>I use Cerave body lotion and a retinol body lo...</td>\n",
       "      <td>Skincare_Addiction</td>\n",
       "    </tr>\n",
       "    <tr>\n",
       "      <th>1</th>\n",
       "      <td>1.713069e+09</td>\n",
       "      <td>Is SPF 30 moisturizer enough to use with Retinol?</td>\n",
       "      <td>Is SPF 30 moisturizer enough to use with Retin...</td>\n",
       "      <td>Skincare_Addiction</td>\n",
       "    </tr>\n",
       "    <tr>\n",
       "      <th>2</th>\n",
       "      <td>1.713060e+09</td>\n",
       "      <td>Retinol Eye Cream</td>\n",
       "      <td>\\nSo I accidentally bought an eye cream that c...</td>\n",
       "      <td>Skincare_Addiction</td>\n",
       "    </tr>\n",
       "    <tr>\n",
       "      <th>3</th>\n",
       "      <td>1.713059e+09</td>\n",
       "      <td>Question about Niacinamide cleanser + serum</td>\n",
       "      <td>Can I use CeraVe's foaming cleanser (which con...</td>\n",
       "      <td>Skincare_Addiction</td>\n",
       "    </tr>\n",
       "    <tr>\n",
       "      <th>4</th>\n",
       "      <td>1.713058e+09</td>\n",
       "      <td>Tretinoin combined with exfoliants?</td>\n",
       "      <td>Hi! 🩷 please be kind .. I’m sorry if this is a...</td>\n",
       "      <td>Skincare_Addiction</td>\n",
       "    </tr>\n",
       "  </tbody>\n",
       "</table>\n",
       "</div>"
      ],
      "text/plain": [
       "    created_utc                                              title  \\\n",
       "0  1.713070e+09                         combining two body lotions   \n",
       "1  1.713069e+09  Is SPF 30 moisturizer enough to use with Retinol?   \n",
       "2  1.713060e+09                                  Retinol Eye Cream   \n",
       "3  1.713059e+09        Question about Niacinamide cleanser + serum   \n",
       "4  1.713058e+09                Tretinoin combined with exfoliants?   \n",
       "\n",
       "                                           self_text           subreddit  \n",
       "0  I use Cerave body lotion and a retinol body lo...  Skincare_Addiction  \n",
       "1  Is SPF 30 moisturizer enough to use with Retin...  Skincare_Addiction  \n",
       "2  \\nSo I accidentally bought an eye cream that c...  Skincare_Addiction  \n",
       "3  Can I use CeraVe's foaming cleanser (which con...  Skincare_Addiction  \n",
       "4  Hi! 🩷 please be kind .. I’m sorry if this is a...  Skincare_Addiction  "
      ]
     },
     "execution_count": 2,
     "metadata": {},
     "output_type": "execute_result"
    }
   ],
   "source": [
    "skinadd = pd.read_csv('data/skincareaddiction.csv')\n",
    "skinadd.head(5)"
   ]
  },
  {
   "cell_type": "code",
   "execution_count": 3,
   "id": "c8359443-ca9d-400c-b18b-6e2170f759b7",
   "metadata": {},
   "outputs": [
    {
     "data": {
      "text/html": [
       "<div>\n",
       "<style scoped>\n",
       "    .dataframe tbody tr th:only-of-type {\n",
       "        vertical-align: middle;\n",
       "    }\n",
       "\n",
       "    .dataframe tbody tr th {\n",
       "        vertical-align: top;\n",
       "    }\n",
       "\n",
       "    .dataframe thead th {\n",
       "        text-align: right;\n",
       "    }\n",
       "</style>\n",
       "<table border=\"1\" class=\"dataframe\">\n",
       "  <thead>\n",
       "    <tr style=\"text-align: right;\">\n",
       "      <th></th>\n",
       "      <th>created_utc</th>\n",
       "      <th>title</th>\n",
       "      <th>self_text</th>\n",
       "      <th>subreddit</th>\n",
       "    </tr>\n",
       "  </thead>\n",
       "  <tbody>\n",
       "    <tr>\n",
       "      <th>0</th>\n",
       "      <td>1.713098e+09</td>\n",
       "      <td>Breakouts after koren skincare products:help m...</td>\n",
       "      <td>Hey everyone,\\nI’m using this new skincare pro...</td>\n",
       "      <td>koreanskincare</td>\n",
       "    </tr>\n",
       "    <tr>\n",
       "      <th>1</th>\n",
       "      <td>1.713094e+09</td>\n",
       "      <td>skincare product recs ?</td>\n",
       "      <td>i have dry, sensitive, congested skin\\ni have ...</td>\n",
       "      <td>koreanskincare</td>\n",
       "    </tr>\n",
       "    <tr>\n",
       "      <th>2</th>\n",
       "      <td>1.713074e+09</td>\n",
       "      <td>Difference between Skin1004 Centella Ampoule a...</td>\n",
       "      <td>Hello guys!\\n\\nI wanted to ask if any of you k...</td>\n",
       "      <td>koreanskincare</td>\n",
       "    </tr>\n",
       "    <tr>\n",
       "      <th>3</th>\n",
       "      <td>1.713063e+09</td>\n",
       "      <td>Adding new product in the routine!</td>\n",
       "      <td>Pic 1 : wow, the packing looks really good. I ...</td>\n",
       "      <td>koreanskincare</td>\n",
       "    </tr>\n",
       "    <tr>\n",
       "      <th>4</th>\n",
       "      <td>1.713045e+09</td>\n",
       "      <td>Idk where to begin please help!</td>\n",
       "      <td>I am trying to make the switch to kskincare an...</td>\n",
       "      <td>koreanskincare</td>\n",
       "    </tr>\n",
       "  </tbody>\n",
       "</table>\n",
       "</div>"
      ],
      "text/plain": [
       "    created_utc                                              title  \\\n",
       "0  1.713098e+09  Breakouts after koren skincare products:help m...   \n",
       "1  1.713094e+09                            skincare product recs ?   \n",
       "2  1.713074e+09  Difference between Skin1004 Centella Ampoule a...   \n",
       "3  1.713063e+09                 Adding new product in the routine!   \n",
       "4  1.713045e+09                    Idk where to begin please help!   \n",
       "\n",
       "                                           self_text       subreddit  \n",
       "0  Hey everyone,\\nI’m using this new skincare pro...  koreanskincare  \n",
       "1  i have dry, sensitive, congested skin\\ni have ...  koreanskincare  \n",
       "2  Hello guys!\\n\\nI wanted to ask if any of you k...  koreanskincare  \n",
       "3  Pic 1 : wow, the packing looks really good. I ...  koreanskincare  \n",
       "4  I am trying to make the switch to kskincare an...  koreanskincare  "
      ]
     },
     "execution_count": 3,
     "metadata": {},
     "output_type": "execute_result"
    }
   ],
   "source": [
    "kskincare = pd.read_csv('data/koreanskincarereddit.csv')\n",
    "kskincare.head(5)"
   ]
  },
  {
   "cell_type": "markdown",
   "id": "f61d5c5a-1a29-485c-a323-61bf37bd3090",
   "metadata": {},
   "source": [
    "Importing korean skincare subreddit \"kskincare\" and skincare addiction subreddit \"skinadd\" from Data_Notebook."
   ]
  },
  {
   "cell_type": "code",
   "execution_count": 4,
   "id": "2896b47e-f085-433c-ae6d-b99f2b2d4df6",
   "metadata": {},
   "outputs": [
    {
     "data": {
      "text/plain": [
       "(1780, 4)"
      ]
     },
     "execution_count": 4,
     "metadata": {},
     "output_type": "execute_result"
    }
   ],
   "source": [
    "kskincare.shape"
   ]
  },
  {
   "cell_type": "code",
   "execution_count": 5,
   "id": "065ded2d-f7e0-4c96-a888-d74296713336",
   "metadata": {},
   "outputs": [
    {
     "data": {
      "text/plain": [
       "(1492, 4)"
      ]
     },
     "execution_count": 5,
     "metadata": {},
     "output_type": "execute_result"
    }
   ],
   "source": [
    "skinadd.shape"
   ]
  },
  {
   "cell_type": "markdown",
   "id": "ee6cfd22-2074-426b-b48f-c4865464181c",
   "metadata": {},
   "source": [
    "Checking shapes of both dataframes."
   ]
  },
  {
   "cell_type": "code",
   "execution_count": 6,
   "id": "f3eae1f4-6c51-429b-8680-b2c6581b1f9a",
   "metadata": {},
   "outputs": [
    {
     "data": {
      "text/plain": [
       "created_utc     0\n",
       "title           0\n",
       "self_text      52\n",
       "subreddit       0\n",
       "dtype: int64"
      ]
     },
     "execution_count": 6,
     "metadata": {},
     "output_type": "execute_result"
    }
   ],
   "source": [
    "skinadd.isnull().sum()"
   ]
  },
  {
   "cell_type": "code",
   "execution_count": 7,
   "id": "c5c09c04-a6a4-42e3-981f-3be9b20305f8",
   "metadata": {},
   "outputs": [
    {
     "data": {
      "text/plain": [
       "created_utc     0\n",
       "title           0\n",
       "self_text      90\n",
       "subreddit       0\n",
       "dtype: int64"
      ]
     },
     "execution_count": 7,
     "metadata": {},
     "output_type": "execute_result"
    }
   ],
   "source": [
    "kskincare.isnull().sum()"
   ]
  },
  {
   "cell_type": "code",
   "execution_count": 8,
   "id": "aabb2f4c-0847-4e0e-ad47-a8d63164d705",
   "metadata": {},
   "outputs": [],
   "source": [
    "skinadd = skinadd.dropna()"
   ]
  },
  {
   "cell_type": "code",
   "execution_count": 9,
   "id": "a19a076a-b767-4275-9006-0317ea546f5d",
   "metadata": {},
   "outputs": [],
   "source": [
    "kskincare = kskincare.dropna()"
   ]
  },
  {
   "cell_type": "markdown",
   "id": "177b1981-1d43-4539-89e2-fafb5494e3e4",
   "metadata": {},
   "source": [
    "Dropping null data from both dataframes."
   ]
  },
  {
   "cell_type": "code",
   "execution_count": 10,
   "id": "90bb986e-60a5-4acb-b65a-31145d9ae6be",
   "metadata": {},
   "outputs": [
    {
     "data": {
      "text/plain": [
       "created_utc    0\n",
       "title          0\n",
       "self_text      0\n",
       "subreddit      0\n",
       "dtype: int64"
      ]
     },
     "execution_count": 10,
     "metadata": {},
     "output_type": "execute_result"
    }
   ],
   "source": [
    "skinadd.isnull().sum()"
   ]
  },
  {
   "cell_type": "code",
   "execution_count": 11,
   "id": "79cc64b2-3e51-4bf8-a9b2-ba91c7c5b5fe",
   "metadata": {},
   "outputs": [
    {
     "data": {
      "text/plain": [
       "created_utc    0\n",
       "title          0\n",
       "self_text      0\n",
       "subreddit      0\n",
       "dtype: int64"
      ]
     },
     "execution_count": 11,
     "metadata": {},
     "output_type": "execute_result"
    }
   ],
   "source": [
    "kskincare.isnull().sum()"
   ]
  },
  {
   "cell_type": "markdown",
   "id": "c60308a6-e519-4db7-8963-936c30ae8891",
   "metadata": {},
   "source": [
    "Checking to see if null drop worked."
   ]
  },
  {
   "cell_type": "code",
   "execution_count": 12,
   "id": "fcbf8356-dc9b-4291-93bd-3d1a677ee37e",
   "metadata": {},
   "outputs": [],
   "source": [
    "skinadd['self_text'].fillna('no_text', inplace=True)"
   ]
  },
  {
   "cell_type": "code",
   "execution_count": 13,
   "id": "a93c15b3-c4e7-4c4b-9bd7-f5ab423e4007",
   "metadata": {},
   "outputs": [],
   "source": [
    "kskincare['self_text'].fillna('no_text', inplace=True)"
   ]
  },
  {
   "cell_type": "markdown",
   "id": "eafe4b3c-2b1b-4fd7-8c6f-1dfbacb992ae",
   "metadata": {},
   "source": [
    "Replacing any potential missing data in posts with no_text on both subreddits in order to ensure no issue with nulls during the modeling process."
   ]
  },
  {
   "cell_type": "code",
   "execution_count": 14,
   "id": "475fcac5-a0a5-447a-b4bb-ca4b53166fe1",
   "metadata": {},
   "outputs": [
    {
     "data": {
      "text/plain": [
       "(1440, 4)"
      ]
     },
     "execution_count": 14,
     "metadata": {},
     "output_type": "execute_result"
    }
   ],
   "source": [
    "skinadd.shape"
   ]
  },
  {
   "cell_type": "code",
   "execution_count": 15,
   "id": "04e0ba5d-01bc-4ff2-945e-c415af02c7c7",
   "metadata": {},
   "outputs": [
    {
     "data": {
      "text/plain": [
       "(1690, 4)"
      ]
     },
     "execution_count": 15,
     "metadata": {},
     "output_type": "execute_result"
    }
   ],
   "source": [
    "kskincare.shape"
   ]
  },
  {
   "cell_type": "code",
   "execution_count": 17,
   "id": "893abee2-7315-43af-94e1-a0da99866b4b",
   "metadata": {},
   "outputs": [
    {
     "data": {
      "text/plain": [
       "created_utc    0\n",
       "title          0\n",
       "self_text      0\n",
       "subreddit      0\n",
       "dtype: int64"
      ]
     },
     "execution_count": 17,
     "metadata": {},
     "output_type": "execute_result"
    }
   ],
   "source": [
    "kskincare.isnull().sum()"
   ]
  },
  {
   "cell_type": "code",
   "execution_count": 16,
   "id": "edbb337e-f89e-48d0-a265-519641309b18",
   "metadata": {},
   "outputs": [
    {
     "data": {
      "text/plain": [
       "created_utc    0\n",
       "title          0\n",
       "self_text      0\n",
       "subreddit      0\n",
       "dtype: int64"
      ]
     },
     "execution_count": 16,
     "metadata": {},
     "output_type": "execute_result"
    }
   ],
   "source": [
    "skinadd.isnull().sum()"
   ]
  },
  {
   "cell_type": "markdown",
   "id": "101d754c-486a-4074-8c8b-2b05e71874ca",
   "metadata": {},
   "source": [
    "Checking for any potential changes since replacing nulls."
   ]
  },
  {
   "cell_type": "code",
   "execution_count": 18,
   "id": "a4d40797-d32e-448e-b397-54095c4a1173",
   "metadata": {},
   "outputs": [
    {
     "data": {
      "text/html": [
       "<div>\n",
       "<style scoped>\n",
       "    .dataframe tbody tr th:only-of-type {\n",
       "        vertical-align: middle;\n",
       "    }\n",
       "\n",
       "    .dataframe tbody tr th {\n",
       "        vertical-align: top;\n",
       "    }\n",
       "\n",
       "    .dataframe thead th {\n",
       "        text-align: right;\n",
       "    }\n",
       "</style>\n",
       "<table border=\"1\" class=\"dataframe\">\n",
       "  <thead>\n",
       "    <tr style=\"text-align: right;\">\n",
       "      <th></th>\n",
       "      <th>created_utc</th>\n",
       "      <th>title</th>\n",
       "      <th>self_text</th>\n",
       "      <th>subreddit</th>\n",
       "    </tr>\n",
       "  </thead>\n",
       "  <tbody>\n",
       "    <tr>\n",
       "      <th>1482</th>\n",
       "      <td>1.713060e+09</td>\n",
       "      <td>Retinol Eye Cream</td>\n",
       "      <td>\\nSo I accidentally bought an eye cream that c...</td>\n",
       "      <td>Skincare_Addiction</td>\n",
       "    </tr>\n",
       "    <tr>\n",
       "      <th>1483</th>\n",
       "      <td>1.713059e+09</td>\n",
       "      <td>Question about Niacinamide cleanser + serum</td>\n",
       "      <td>Can I use CeraVe's foaming cleanser (which con...</td>\n",
       "      <td>Skincare_Addiction</td>\n",
       "    </tr>\n",
       "    <tr>\n",
       "      <th>1484</th>\n",
       "      <td>1.713058e+09</td>\n",
       "      <td>Tretinoin combined with exfoliants?</td>\n",
       "      <td>Hi! 🩷 please be kind .. I’m sorry if this is a...</td>\n",
       "      <td>Skincare_Addiction</td>\n",
       "    </tr>\n",
       "    <tr>\n",
       "      <th>1485</th>\n",
       "      <td>1.713056e+09</td>\n",
       "      <td>Would very much appreciate if I could get some...</td>\n",
       "      <td>Usually I just use water and witch hazel and h...</td>\n",
       "      <td>Skincare_Addiction</td>\n",
       "    </tr>\n",
       "    <tr>\n",
       "      <th>1486</th>\n",
       "      <td>1.713056e+09</td>\n",
       "      <td>If I use a silicone-based sunscreen (Supergoop...</td>\n",
       "      <td>I’ve started slugging at night and loving it, ...</td>\n",
       "      <td>Skincare_Addiction</td>\n",
       "    </tr>\n",
       "    <tr>\n",
       "      <th>1487</th>\n",
       "      <td>1.713052e+09</td>\n",
       "      <td>acne scaring… do i start retinol?</td>\n",
       "      <td>15m\\ni usedretinol before and had clear skin. ...</td>\n",
       "      <td>Skincare_Addiction</td>\n",
       "    </tr>\n",
       "    <tr>\n",
       "      <th>1488</th>\n",
       "      <td>1.713050e+09</td>\n",
       "      <td>how to get rid of acne scar on arms?</td>\n",
       "      <td>how to get rid of acne scars on arms? \\nso I’v...</td>\n",
       "      <td>Skincare_Addiction</td>\n",
       "    </tr>\n",
       "    <tr>\n",
       "      <th>1489</th>\n",
       "      <td>1.713050e+09</td>\n",
       "      <td>Starting out with skin care</td>\n",
       "      <td>Hello, i am 30 year old guy and have never had...</td>\n",
       "      <td>Skincare_Addiction</td>\n",
       "    </tr>\n",
       "    <tr>\n",
       "      <th>1490</th>\n",
       "      <td>1.713049e+09</td>\n",
       "      <td>what serum can i use with galvanic facial mach...</td>\n",
       "      <td>my mom gave me this galvanic skin care thing s...</td>\n",
       "      <td>Skincare_Addiction</td>\n",
       "    </tr>\n",
       "    <tr>\n",
       "      <th>1491</th>\n",
       "      <td>1.713049e+09</td>\n",
       "      <td>Is it normal to get red patches on skin after ...</td>\n",
       "      <td>New to skincare!\\nI'm trying to reduce my pore...</td>\n",
       "      <td>Skincare_Addiction</td>\n",
       "    </tr>\n",
       "  </tbody>\n",
       "</table>\n",
       "</div>"
      ],
      "text/plain": [
       "       created_utc                                              title  \\\n",
       "1482  1.713060e+09                                  Retinol Eye Cream   \n",
       "1483  1.713059e+09        Question about Niacinamide cleanser + serum   \n",
       "1484  1.713058e+09                Tretinoin combined with exfoliants?   \n",
       "1485  1.713056e+09  Would very much appreciate if I could get some...   \n",
       "1486  1.713056e+09  If I use a silicone-based sunscreen (Supergoop...   \n",
       "1487  1.713052e+09                  acne scaring… do i start retinol?   \n",
       "1488  1.713050e+09               how to get rid of acne scar on arms?   \n",
       "1489  1.713050e+09                        Starting out with skin care   \n",
       "1490  1.713049e+09  what serum can i use with galvanic facial mach...   \n",
       "1491  1.713049e+09  Is it normal to get red patches on skin after ...   \n",
       "\n",
       "                                              self_text           subreddit  \n",
       "1482  \\nSo I accidentally bought an eye cream that c...  Skincare_Addiction  \n",
       "1483  Can I use CeraVe's foaming cleanser (which con...  Skincare_Addiction  \n",
       "1484  Hi! 🩷 please be kind .. I’m sorry if this is a...  Skincare_Addiction  \n",
       "1485  Usually I just use water and witch hazel and h...  Skincare_Addiction  \n",
       "1486  I’ve started slugging at night and loving it, ...  Skincare_Addiction  \n",
       "1487  15m\\ni usedretinol before and had clear skin. ...  Skincare_Addiction  \n",
       "1488  how to get rid of acne scars on arms? \\nso I’v...  Skincare_Addiction  \n",
       "1489  Hello, i am 30 year old guy and have never had...  Skincare_Addiction  \n",
       "1490  my mom gave me this galvanic skin care thing s...  Skincare_Addiction  \n",
       "1491  New to skincare!\\nI'm trying to reduce my pore...  Skincare_Addiction  "
      ]
     },
     "execution_count": 18,
     "metadata": {},
     "output_type": "execute_result"
    }
   ],
   "source": [
    "skinadd.tail(10)"
   ]
  },
  {
   "cell_type": "code",
   "execution_count": 19,
   "id": "cef85223-612e-4829-98b4-d5ecdce6e39c",
   "metadata": {},
   "outputs": [
    {
     "data": {
      "text/html": [
       "<div>\n",
       "<style scoped>\n",
       "    .dataframe tbody tr th:only-of-type {\n",
       "        vertical-align: middle;\n",
       "    }\n",
       "\n",
       "    .dataframe tbody tr th {\n",
       "        vertical-align: top;\n",
       "    }\n",
       "\n",
       "    .dataframe thead th {\n",
       "        text-align: right;\n",
       "    }\n",
       "</style>\n",
       "<table border=\"1\" class=\"dataframe\">\n",
       "  <thead>\n",
       "    <tr style=\"text-align: right;\">\n",
       "      <th></th>\n",
       "      <th>created_utc</th>\n",
       "      <th>title</th>\n",
       "      <th>self_text</th>\n",
       "      <th>subreddit</th>\n",
       "    </tr>\n",
       "  </thead>\n",
       "  <tbody>\n",
       "    <tr>\n",
       "      <th>1770</th>\n",
       "      <td>1.712940e+09</td>\n",
       "      <td>Im fuckin lost</td>\n",
       "      <td>I have dry n hella sensitive skin , I’ve tried...</td>\n",
       "      <td>koreanskincare</td>\n",
       "    </tr>\n",
       "    <tr>\n",
       "      <th>1771</th>\n",
       "      <td>1.712909e+09</td>\n",
       "      <td>Skin care for dry skin - Face mask sheets or p...</td>\n",
       "      <td>Hi .. I am new to Korean skin care and tried f...</td>\n",
       "      <td>koreanskincare</td>\n",
       "    </tr>\n",
       "    <tr>\n",
       "      <th>1772</th>\n",
       "      <td>1.712929e+09</td>\n",
       "      <td>My skin concerns or normal</td>\n",
       "      <td>I tried physical but it feels matte finish I u...</td>\n",
       "      <td>koreanskincare</td>\n",
       "    </tr>\n",
       "    <tr>\n",
       "      <th>1773</th>\n",
       "      <td>1.712921e+09</td>\n",
       "      <td>Help with a beginner routine!</td>\n",
       "      <td>Hi everyone! I’ve only just started building o...</td>\n",
       "      <td>koreanskincare</td>\n",
       "    </tr>\n",
       "    <tr>\n",
       "      <th>1774</th>\n",
       "      <td>1.712896e+09</td>\n",
       "      <td>Free sample</td>\n",
       "      <td>Got this free sample with my order, good for a...</td>\n",
       "      <td>koreanskincare</td>\n",
       "    </tr>\n",
       "    <tr>\n",
       "      <th>1775</th>\n",
       "      <td>1.712896e+09</td>\n",
       "      <td>Skincare recommendations?</td>\n",
       "      <td>Hi, I am looking for some skincare recommendat...</td>\n",
       "      <td>koreanskincare</td>\n",
       "    </tr>\n",
       "    <tr>\n",
       "      <th>1776</th>\n",
       "      <td>1.712893e+09</td>\n",
       "      <td>Oil-based vs water-based cleanser in the morning?</td>\n",
       "      <td>I double cleanse at night but in the morning, ...</td>\n",
       "      <td>koreanskincare</td>\n",
       "    </tr>\n",
       "    <tr>\n",
       "      <th>1777</th>\n",
       "      <td>1.712881e+09</td>\n",
       "      <td>help! Flaky around my mouth and slightly irrit...</td>\n",
       "      <td>Help! It’s been about three weeks since I adde...</td>\n",
       "      <td>koreanskincare</td>\n",
       "    </tr>\n",
       "    <tr>\n",
       "      <th>1778</th>\n",
       "      <td>1.712860e+09</td>\n",
       "      <td>Am I doing too much?</td>\n",
       "      <td>A few months ago I got really into Korean skin...</td>\n",
       "      <td>koreanskincare</td>\n",
       "    </tr>\n",
       "    <tr>\n",
       "      <th>1779</th>\n",
       "      <td>1.712872e+09</td>\n",
       "      <td>toner pads?</td>\n",
       "      <td>any toner pads that have no actives that are s...</td>\n",
       "      <td>koreanskincare</td>\n",
       "    </tr>\n",
       "  </tbody>\n",
       "</table>\n",
       "</div>"
      ],
      "text/plain": [
       "       created_utc                                              title  \\\n",
       "1770  1.712940e+09                                     Im fuckin lost   \n",
       "1771  1.712909e+09  Skin care for dry skin - Face mask sheets or p...   \n",
       "1772  1.712929e+09                        My skin concerns or normal    \n",
       "1773  1.712921e+09                     Help with a beginner routine!    \n",
       "1774  1.712896e+09                                        Free sample   \n",
       "1775  1.712896e+09                          Skincare recommendations?   \n",
       "1776  1.712893e+09  Oil-based vs water-based cleanser in the morning?   \n",
       "1777  1.712881e+09  help! Flaky around my mouth and slightly irrit...   \n",
       "1778  1.712860e+09                              Am I doing too much?    \n",
       "1779  1.712872e+09                                        toner pads?   \n",
       "\n",
       "                                              self_text       subreddit  \n",
       "1770  I have dry n hella sensitive skin , I’ve tried...  koreanskincare  \n",
       "1771  Hi .. I am new to Korean skin care and tried f...  koreanskincare  \n",
       "1772  I tried physical but it feels matte finish I u...  koreanskincare  \n",
       "1773  Hi everyone! I’ve only just started building o...  koreanskincare  \n",
       "1774  Got this free sample with my order, good for a...  koreanskincare  \n",
       "1775  Hi, I am looking for some skincare recommendat...  koreanskincare  \n",
       "1776  I double cleanse at night but in the morning, ...  koreanskincare  \n",
       "1777  Help! It’s been about three weeks since I adde...  koreanskincare  \n",
       "1778  A few months ago I got really into Korean skin...  koreanskincare  \n",
       "1779  any toner pads that have no actives that are s...  koreanskincare  "
      ]
     },
     "execution_count": 19,
     "metadata": {},
     "output_type": "execute_result"
    }
   ],
   "source": [
    "kskincare.tail(10)"
   ]
  },
  {
   "cell_type": "markdown",
   "id": "214c5b4a-01d0-4c7e-8924-5615f7216a61",
   "metadata": {},
   "source": [
    "Checking to see how the posts vary from the top to the bottom."
   ]
  },
  {
   "cell_type": "code",
   "execution_count": 20,
   "id": "1e8628a6-f494-4d02-973b-c7292cfaf6d5",
   "metadata": {},
   "outputs": [
    {
     "data": {
      "text/plain": [
       "(1440, 4)"
      ]
     },
     "execution_count": 20,
     "metadata": {},
     "output_type": "execute_result"
    }
   ],
   "source": [
    "skinadd.shape"
   ]
  },
  {
   "cell_type": "code",
   "execution_count": 21,
   "id": "699d1689-1870-4940-97d2-cf9864b06726",
   "metadata": {},
   "outputs": [
    {
     "data": {
      "text/plain": [
       "(1690, 4)"
      ]
     },
     "execution_count": 21,
     "metadata": {},
     "output_type": "execute_result"
    }
   ],
   "source": [
    "kskincare.shape"
   ]
  },
  {
   "cell_type": "code",
   "execution_count": 22,
   "id": "8ff9b388-aecd-46aa-a7e7-1cf10947050e",
   "metadata": {},
   "outputs": [
    {
     "data": {
      "text/plain": [
       "pandas.core.frame.DataFrame"
      ]
     },
     "execution_count": 22,
     "metadata": {},
     "output_type": "execute_result"
    }
   ],
   "source": [
    "type(skinadd)"
   ]
  },
  {
   "cell_type": "code",
   "execution_count": 23,
   "id": "3baaaf85-5165-47ca-bb8a-cc459d45c958",
   "metadata": {},
   "outputs": [
    {
     "data": {
      "text/plain": [
       "pandas.core.frame.DataFrame"
      ]
     },
     "execution_count": 23,
     "metadata": {},
     "output_type": "execute_result"
    }
   ],
   "source": [
    "type(kskincare)"
   ]
  },
  {
   "cell_type": "code",
   "execution_count": 24,
   "id": "1dd63fac-a6c4-4ab2-8a2a-2982957f45e8",
   "metadata": {},
   "outputs": [],
   "source": [
    "skincare = pd.concat([kskincare, skinadd])"
   ]
  },
  {
   "cell_type": "markdown",
   "id": "0da7648d-17bd-437e-85f4-003e01e7207e",
   "metadata": {},
   "source": [
    "Merging both dataframes."
   ]
  },
  {
   "cell_type": "code",
   "execution_count": 25,
   "id": "5c52e94f-efb2-4bfa-9bd0-ebebba537f30",
   "metadata": {},
   "outputs": [
    {
     "data": {
      "text/html": [
       "<div>\n",
       "<style scoped>\n",
       "    .dataframe tbody tr th:only-of-type {\n",
       "        vertical-align: middle;\n",
       "    }\n",
       "\n",
       "    .dataframe tbody tr th {\n",
       "        vertical-align: top;\n",
       "    }\n",
       "\n",
       "    .dataframe thead th {\n",
       "        text-align: right;\n",
       "    }\n",
       "</style>\n",
       "<table border=\"1\" class=\"dataframe\">\n",
       "  <thead>\n",
       "    <tr style=\"text-align: right;\">\n",
       "      <th></th>\n",
       "      <th>created_utc</th>\n",
       "      <th>title</th>\n",
       "      <th>self_text</th>\n",
       "      <th>subreddit</th>\n",
       "    </tr>\n",
       "  </thead>\n",
       "  <tbody>\n",
       "    <tr>\n",
       "      <th>0</th>\n",
       "      <td>1.713098e+09</td>\n",
       "      <td>Breakouts after koren skincare products:help m...</td>\n",
       "      <td>Hey everyone,\\nI’m using this new skincare pro...</td>\n",
       "      <td>koreanskincare</td>\n",
       "    </tr>\n",
       "    <tr>\n",
       "      <th>1</th>\n",
       "      <td>1.713094e+09</td>\n",
       "      <td>skincare product recs ?</td>\n",
       "      <td>i have dry, sensitive, congested skin\\ni have ...</td>\n",
       "      <td>koreanskincare</td>\n",
       "    </tr>\n",
       "    <tr>\n",
       "      <th>2</th>\n",
       "      <td>1.713074e+09</td>\n",
       "      <td>Difference between Skin1004 Centella Ampoule a...</td>\n",
       "      <td>Hello guys!\\n\\nI wanted to ask if any of you k...</td>\n",
       "      <td>koreanskincare</td>\n",
       "    </tr>\n",
       "    <tr>\n",
       "      <th>3</th>\n",
       "      <td>1.713063e+09</td>\n",
       "      <td>Adding new product in the routine!</td>\n",
       "      <td>Pic 1 : wow, the packing looks really good. I ...</td>\n",
       "      <td>koreanskincare</td>\n",
       "    </tr>\n",
       "    <tr>\n",
       "      <th>4</th>\n",
       "      <td>1.713045e+09</td>\n",
       "      <td>Idk where to begin please help!</td>\n",
       "      <td>I am trying to make the switch to kskincare an...</td>\n",
       "      <td>koreanskincare</td>\n",
       "    </tr>\n",
       "  </tbody>\n",
       "</table>\n",
       "</div>"
      ],
      "text/plain": [
       "    created_utc                                              title  \\\n",
       "0  1.713098e+09  Breakouts after koren skincare products:help m...   \n",
       "1  1.713094e+09                            skincare product recs ?   \n",
       "2  1.713074e+09  Difference between Skin1004 Centella Ampoule a...   \n",
       "3  1.713063e+09                 Adding new product in the routine!   \n",
       "4  1.713045e+09                    Idk where to begin please help!   \n",
       "\n",
       "                                           self_text       subreddit  \n",
       "0  Hey everyone,\\nI’m using this new skincare pro...  koreanskincare  \n",
       "1  i have dry, sensitive, congested skin\\ni have ...  koreanskincare  \n",
       "2  Hello guys!\\n\\nI wanted to ask if any of you k...  koreanskincare  \n",
       "3  Pic 1 : wow, the packing looks really good. I ...  koreanskincare  \n",
       "4  I am trying to make the switch to kskincare an...  koreanskincare  "
      ]
     },
     "execution_count": 25,
     "metadata": {},
     "output_type": "execute_result"
    }
   ],
   "source": [
    "skincare.head()"
   ]
  },
  {
   "cell_type": "code",
   "execution_count": 28,
   "id": "154e3bb8-e7e6-4454-9178-cef4153683f5",
   "metadata": {},
   "outputs": [],
   "source": [
    "skincare.drop_duplicates(inplace=True)"
   ]
  },
  {
   "cell_type": "code",
   "execution_count": 29,
   "id": "01cd0bba-9296-40ac-9190-c9a8e4b49f22",
   "metadata": {},
   "outputs": [
    {
     "data": {
      "text/plain": [
       "0"
      ]
     },
     "execution_count": 29,
     "metadata": {},
     "output_type": "execute_result"
    }
   ],
   "source": [
    "skincare.duplicated().sum()"
   ]
  },
  {
   "cell_type": "markdown",
   "id": "1f95db9a-5385-4a13-81fd-96ed1b7d8b43",
   "metadata": {},
   "source": [
    "Dropped duplicates from merged data frame."
   ]
  },
  {
   "cell_type": "code",
   "execution_count": 30,
   "id": "c540556d-7207-4dbf-bad3-88e5548bedea",
   "metadata": {},
   "outputs": [
    {
     "data": {
      "text/plain": [
       "(2014, 4)"
      ]
     },
     "execution_count": 30,
     "metadata": {},
     "output_type": "execute_result"
    }
   ],
   "source": [
    "skincare.shape"
   ]
  },
  {
   "cell_type": "code",
   "execution_count": 34,
   "id": "eeabc55e-012e-4eee-8993-bd9ef203d729",
   "metadata": {},
   "outputs": [
    {
     "data": {
      "text/html": [
       "<div>\n",
       "<style scoped>\n",
       "    .dataframe tbody tr th:only-of-type {\n",
       "        vertical-align: middle;\n",
       "    }\n",
       "\n",
       "    .dataframe tbody tr th {\n",
       "        vertical-align: top;\n",
       "    }\n",
       "\n",
       "    .dataframe thead th {\n",
       "        text-align: right;\n",
       "    }\n",
       "</style>\n",
       "<table border=\"1\" class=\"dataframe\">\n",
       "  <thead>\n",
       "    <tr style=\"text-align: right;\">\n",
       "      <th></th>\n",
       "      <th>created_utc</th>\n",
       "      <th>title</th>\n",
       "      <th>self_text</th>\n",
       "      <th>subreddit</th>\n",
       "    </tr>\n",
       "  </thead>\n",
       "  <tbody>\n",
       "    <tr>\n",
       "      <th>1474</th>\n",
       "      <td>1.590720e+09</td>\n",
       "      <td>I know it’s been said already, but PLEASE stop...</td>\n",
       "      <td>Half the time the products can’t be used all a...</td>\n",
       "      <td>Skincare_Addiction</td>\n",
       "    </tr>\n",
       "    <tr>\n",
       "      <th>1475</th>\n",
       "      <td>1.662467e+09</td>\n",
       "      <td>Coochie skincare?</td>\n",
       "      <td>Does it exist? I want to start a conversation ...</td>\n",
       "      <td>Skincare_Addiction</td>\n",
       "    </tr>\n",
       "    <tr>\n",
       "      <th>1476</th>\n",
       "      <td>1.622569e+09</td>\n",
       "      <td>I just want to remind you</td>\n",
       "      <td>Skin is skin. All skin has texture and believe...</td>\n",
       "      <td>Skincare_Addiction</td>\n",
       "    </tr>\n",
       "    <tr>\n",
       "      <th>1477</th>\n",
       "      <td>1.694326e+09</td>\n",
       "      <td>What’s the best tip someone gave you about ski...</td>\n",
       "      <td>Just curious 👀</td>\n",
       "      <td>Skincare_Addiction</td>\n",
       "    </tr>\n",
       "    <tr>\n",
       "      <th>1478</th>\n",
       "      <td>1.701015e+09</td>\n",
       "      <td>Will this scrape scare or return to natural sk...</td>\n",
       "      <td>I hit my head a week or two ago and and it lef...</td>\n",
       "      <td>Skincare_Addiction</td>\n",
       "    </tr>\n",
       "  </tbody>\n",
       "</table>\n",
       "</div>"
      ],
      "text/plain": [
       "       created_utc                                              title  \\\n",
       "1474  1.590720e+09  I know it’s been said already, but PLEASE stop...   \n",
       "1475  1.662467e+09                                  Coochie skincare?   \n",
       "1476  1.622569e+09                          I just want to remind you   \n",
       "1477  1.694326e+09  What’s the best tip someone gave you about ski...   \n",
       "1478  1.701015e+09  Will this scrape scare or return to natural sk...   \n",
       "\n",
       "                                              self_text           subreddit  \n",
       "1474  Half the time the products can’t be used all a...  Skincare_Addiction  \n",
       "1475  Does it exist? I want to start a conversation ...  Skincare_Addiction  \n",
       "1476  Skin is skin. All skin has texture and believe...  Skincare_Addiction  \n",
       "1477                                     Just curious 👀  Skincare_Addiction  \n",
       "1478  I hit my head a week or two ago and and it lef...  Skincare_Addiction  "
      ]
     },
     "execution_count": 34,
     "metadata": {},
     "output_type": "execute_result"
    }
   ],
   "source": [
    "skincare.tail()"
   ]
  },
  {
   "cell_type": "markdown",
   "id": "1dc5607b-333e-4f20-b89a-7a3f59853665",
   "metadata": {},
   "source": [
    "Checking the new dataframe that has the korean skincare and skincare addiction subreddit."
   ]
  },
  {
   "cell_type": "markdown",
   "id": "5c1954e6-6cb1-4abb-b267-b44b241c5f65",
   "metadata": {},
   "source": [
    "### Saving new data."
   ]
  },
  {
   "cell_type": "code",
   "execution_count": 35,
   "id": "f206132c-0d42-41b5-a54b-a36a78ab05bf",
   "metadata": {},
   "outputs": [],
   "source": [
    "skincare.to_csv('data/skincare.csv', index=False)"
   ]
  },
  {
   "cell_type": "markdown",
   "id": "319a3252-cdf9-4823-b210-ee5be2ae95f7",
   "metadata": {},
   "source": [
    "Summary of data cleaning process: Both skincare subreddits from the data_notebook were imported. Then, with both subreddits, I dropped and filled nulls with no_text for the moment(I will explore this more in the NLP process). I also joined both skincare dataframes together to one called \"skincare\". With this data frame, I repeated the process and dropped duplicates. The number of data was 3130 combined and dropped to a total of 2014 posts after the dropped duplicates. I will be using this data frame for the NLP and modeling process and will continue more in the cleaning process as I explore more in the EDA."
   ]
  }
 ],
 "metadata": {
  "kernelspec": {
   "display_name": "Python 3 (ipykernel)",
   "language": "python",
   "name": "python3"
  },
  "language_info": {
   "codemirror_mode": {
    "name": "ipython",
    "version": 3
   },
   "file_extension": ".py",
   "mimetype": "text/x-python",
   "name": "python",
   "nbconvert_exporter": "python",
   "pygments_lexer": "ipython3",
   "version": "3.11.8"
  }
 },
 "nbformat": 4,
 "nbformat_minor": 5
}
